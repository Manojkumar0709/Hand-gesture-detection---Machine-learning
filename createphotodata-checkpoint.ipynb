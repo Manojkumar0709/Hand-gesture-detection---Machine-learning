{
 "cells": [
  {
   "cell_type": "code",
   "execution_count": 2,
   "id": "9149d9a3",
   "metadata": {},
   "outputs": [
    {
     "name": "stdout",
     "output_type": "stream",
     "text": [
      "Collecting data for class 0\n",
      "Collecting data for class 1\n",
      "Collecting data for class 2\n"
     ]
    }
   ],
   "source": [
    "\"\"\"\n",
    "This program is to capture images for automatically to create a dataset of images\n",
    "\"\"\"\n",
    "# To acess system commands and devices\n",
    "import os\n",
    "\n",
    "# OPENCV library\n",
    "import cv2\n",
    "\n",
    "# Create a folder name data\n",
    "DATA_DIR = './data'\n",
    "\n",
    "# Error handling\n",
    "if not os.path.exists(DATA_DIR):\n",
    "    os.makedirs(DATA_DIR)\n",
    "\n",
    "# Total no of classes\n",
    "numberOfClasses = 3\n",
    "\n",
    "# Number of dataSet in each class\n",
    "dataSetSize = 20\n",
    "\n",
    "# Craeting vidoe camera instance or connecting to camera\n",
    "cap = cv2.VideoCapture(0)\n",
    "\n",
    "# Lopping to create sub folder in data to store 100 data\n",
    "for j in range(numberOfClasses):\n",
    "\n",
    "    # Error Handling for folder creation\n",
    "    if not os.path.exists(os.path.join(DATA_DIR, str(j))):\n",
    "        os.makedirs(os.path.join(DATA_DIR, str(j)))\n",
    "\n",
    "    # Format specifier for printing variable in strings\n",
    "    print('Collecting data for class {}'.format(j))\n",
    "\n",
    "    done = False\n",
    "    while True:\n",
    "        # Capturing frames from camera\n",
    "        ret, frame = cap.read()\n",
    "        # Displaying a message on video window \n",
    "        cv2.putText(frame, 'Press \"A\" ! :', (100, 50), cv2.FONT_HERSHEY_SIMPLEX, 1.3, (255, 0, 0), 3,\n",
    "                    cv2.LINE_AA)\n",
    "        # Displaying what is being captured in the window            \n",
    "        cv2.imshow('frame', frame)\n",
    "\n",
    "        # Waiting to press A button\n",
    "        if cv2.waitKey(25) == ord('a'):\n",
    "            break\n",
    "\n",
    "    # Capturing 100 frames in intervals of 25msec\n",
    "    counter = 0\n",
    "    while counter < dataSetSize:\n",
    "        ret, frame = cap.read()\n",
    "        cv2.imshow('frame', frame)\n",
    "        \n",
    "        # Set dealy time or interval time\n",
    "        cv2.waitKey(25)\n",
    "\n",
    "        # Logging the captured image in the directory\n",
    "        cv2.imwrite(os.path.join(DATA_DIR, str(j), '{}.jpg'.format(counter)), frame)\n",
    "        counter += 1\n",
    "\n",
    "# Closing all camera window and unlinking from camera\n",
    "cap.release()\n",
    "cv2.destroyAllWindows()"
   ]
  },
  {
   "cell_type": "code",
   "execution_count": null,
   "id": "be429db0",
   "metadata": {},
   "outputs": [],
   "source": []
  }
 ],
 "metadata": {
  "kernelspec": {
   "display_name": "Python 3 (ipykernel)",
   "language": "python",
   "name": "python3"
  },
  "language_info": {
   "codemirror_mode": {
    "name": "ipython",
    "version": 3
   },
   "file_extension": ".py",
   "mimetype": "text/x-python",
   "name": "python",
   "nbconvert_exporter": "python",
   "pygments_lexer": "ipython3",
   "version": "3.11.5"
  }
 },
 "nbformat": 4,
 "nbformat_minor": 5
}
