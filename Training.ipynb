{
 "cells": [
  {
   "cell_type": "code",
   "execution_count": 1,
   "id": "d0f649d9",
   "metadata": {},
   "outputs": [
    {
     "name": "stdout",
     "output_type": "stream",
     "text": [
      "100.0% of samples were classified correctly !\n"
     ]
    }
   ],
   "source": [
    "'''\n",
    "This code would train the randomforestclassifer Ml model and store it\n",
    "'''\n",
    "\n",
    "# Library to load dataset, save trained models, load trained models\n",
    "import pickle\n",
    "\n",
    "from sklearn.ensemble import RandomForestClassifier\n",
    "from sklearn.model_selection import train_test_split\n",
    "from sklearn.metrics import accuracy_score\n",
    "import numpy as np\n",
    "\n",
    "# Loading the dataset from data.pickle file\n",
    "dataDict = pickle.load(open('./data.pickle', 'rb'))\n",
    "\n",
    "# Separating label and data into two seperate list \n",
    "data = np.asarray(dataDict['data'])\n",
    "labels = np.asarray(dataDict['labels'])\n",
    "\n",
    "# Spliting 80 percent of data into training data and 20 percent into testing data\n",
    "x_train, x_test, y_train, y_test = train_test_split(data, labels, test_size=0.2, shuffle=True, stratify=labels)\n",
    "\n",
    "# creating an instant of random forest classifier\n",
    "model = RandomForestClassifier()\n",
    "\n",
    "# Training the model\n",
    "model.fit(x_train, y_train)\n",
    "\n",
    "# Testing the model\n",
    "y_predict = model.predict(x_test)\n",
    "\n",
    "# Calculating the accuracy\n",
    "score = accuracy_score(y_predict, y_test)\n",
    "\n",
    "# Printing the score\n",
    "print('{}% of samples were classified correctly !'.format(score * 100))\n",
    "\n",
    "# Saving the model\n",
    "f = open('model.p', 'wb')\n",
    "pickle.dump({'model': model}, f)\n",
    "f.close()"
   ]
  },
  {
   "cell_type": "code",
   "execution_count": null,
   "id": "14b4ccbb",
   "metadata": {},
   "outputs": [],
   "source": []
  }
 ],
 "metadata": {
  "kernelspec": {
   "display_name": "Python 3 (ipykernel)",
   "language": "python",
   "name": "python3"
  },
  "language_info": {
   "codemirror_mode": {
    "name": "ipython",
    "version": 3
   },
   "file_extension": ".py",
   "mimetype": "text/x-python",
   "name": "python",
   "nbconvert_exporter": "python",
   "pygments_lexer": "ipython3",
   "version": "3.11.5"
  }
 },
 "nbformat": 4,
 "nbformat_minor": 5
}
